{
 "cells": [
  {
   "cell_type": "code",
   "execution_count": 3,
   "metadata": {},
   "outputs": [],
   "source": [
    "import os\n",
    "from skimage.transform import resize\n",
    "from skimage.io import imsave\n",
    "import numpy as np\n",
    "from skimage.segmentation import mark_boundaries\n",
    "from keras.models import Model\n",
    "from keras.layers import Input, concatenate, Conv2D, MaxPooling2D, Conv2DTranspose\n",
    "from keras.optimizers import Adam, SGD\n",
    "from keras.callbacks import ModelCheckpoint\n",
    "from keras import backend as K\n",
    "from skimage.exposure import rescale_intensity\n",
    "from keras.callbacks import History\n",
    "from skimage import io\n",
    "from data import load_train_data, load_test_data"
   ]
  },
  {
   "cell_type": "code",
   "execution_count": 2,
   "metadata": {},
   "outputs": [],
   "source": [
    "K.set_image_data_format('channels_last')  # TF dimension ordering in this code\n",
    "\n",
    "img_rows = int(512/2)\n",
    "img_cols = int(512/2)\n",
    "smooth = 1.\n",
    "#We divide here the number of rows and columns by two because we undersample our data (We take one pixel over two) "
   ]
  },
  {
   "cell_type": "code",
   "execution_count": 3,
   "metadata": {},
   "outputs": [],
   "source": [
    "def dice_coef(y_true, y_pred):\n",
    "    y_true_f = K.flatten(y_true)\n",
    "    y_pred_f = K.flatten(y_pred)\n",
    "    intersection = K.sum(y_true_f * y_pred_f)\n",
    "    return (2. * intersection + smooth) / (K.sum(y_true_f) + K.sum(y_pred_f) + smooth)\n",
    "\n",
    "\n",
    "def dice_coef_loss(y_true, y_pred):\n",
    "    return -dice_coef(y_true, y_pred)\n",
    "\n",
    "#The functions return our metric and loss"
   ]
  },
  {
   "cell_type": "code",
   "execution_count": 4,
   "metadata": {},
   "outputs": [],
   "source": [
    "def get_unet():\n",
    "    inputs = Input((img_rows, img_cols, 1))\n",
    "    conv1 = Conv2D(32, (3, 3), activation='relu', padding='same')(inputs)\n",
    "    conv1 = Conv2D(32, (3, 3), activation='relu', padding='same')(conv1)\n",
    "    pool1 = MaxPooling2D(pool_size=(2, 2))(conv1)\n",
    "\n",
    "    conv2 = Conv2D(64, (3, 3), activation='relu', padding='same')(pool1)\n",
    "    conv2 = Conv2D(64, (3, 3), activation='relu', padding='same')(conv2)\n",
    "    pool2 = MaxPooling2D(pool_size=(2, 2))(conv2)\n",
    "\n",
    "    conv3 = Conv2D(128, (3, 3), activation='relu', padding='same')(pool2)\n",
    "    conv3 = Conv2D(128, (3, 3), activation='relu', padding='same')(conv3)\n",
    "    pool3 = MaxPooling2D(pool_size=(2, 2))(conv3)\n",
    "\n",
    "    conv4 = Conv2D(256, (3, 3), activation='relu', padding='same')(pool3)\n",
    "    conv4 = Conv2D(256, (3, 3), activation='relu', padding='same')(conv4)\n",
    "    pool4 = MaxPooling2D(pool_size=(2, 2))(conv4)\n",
    "\n",
    "    conv5 = Conv2D(512, (3, 3), activation='relu', padding='same')(pool4)\n",
    "    conv5 = Conv2D(512, (3, 3), activation='relu', padding='same')(conv5)\n",
    "\n",
    "    up6 = concatenate([Conv2DTranspose(256, (2, 2), strides=(2, 2), padding='same')(conv5), conv4], axis=3)\n",
    "    conv6 = Conv2D(256, (3, 3), activation='relu', padding='same')(up6)\n",
    "    conv6 = Conv2D(256, (3, 3), activation='relu', padding='same')(conv6)\n",
    "\n",
    "    up7 = concatenate([Conv2DTranspose(128, (2, 2), strides=(2, 2), padding='same')(conv6), conv3], axis=3)\n",
    "    conv7 = Conv2D(128, (3, 3), activation='relu', padding='same')(up7)\n",
    "    conv7 = Conv2D(128, (3, 3), activation='relu', padding='same')(conv7)\n",
    "\n",
    "    up8 = concatenate([Conv2DTranspose(64, (2, 2), strides=(2, 2), padding='same')(conv7), conv2], axis=3)\n",
    "    conv8 = Conv2D(64, (3, 3), activation='relu', padding='same')(up8)\n",
    "    conv8 = Conv2D(64, (3, 3), activation='relu', padding='same')(conv8)\n",
    "\n",
    "    up9 = concatenate([Conv2DTranspose(32, (2, 2), strides=(2, 2), padding='same')(conv8), conv1], axis=3)\n",
    "    conv9 = Conv2D(32, (3, 3), activation='relu', padding='same')(up9)\n",
    "    conv9 = Conv2D(32, (3, 3), activation='relu', padding='same')(conv9)\n",
    "\n",
    "    conv10 = Conv2D(1, (1, 1), activation='sigmoid')(conv9)\n",
    "\n",
    "    model = Model(inputs=[inputs], outputs=[conv10])\n",
    "\n",
    "    model.compile(optimizer=Adam(lr=1e-3), loss=dice_coef_loss, metrics=[dice_coef])\n",
    "\n",
    "    return model\n",
    "\n",
    "#The different layers in our neural network model (including convolutions, maxpooling and upsampling)"
   ]
  },
  {
   "cell_type": "code",
   "execution_count": 5,
   "metadata": {},
   "outputs": [],
   "source": [
    "def preprocess(imgs):\n",
    "    imgs_p = np.ndarray((imgs.shape[0], img_rows, img_cols), dtype=np.uint8)\n",
    "    for i in range(imgs.shape[0]):\n",
    "        imgs_p[i] = resize(imgs[i], (img_cols, img_rows), preserve_range=True)\n",
    "\n",
    "    imgs_p = imgs_p[..., np.newaxis]\n",
    "    return imgs_p\n",
    "\n",
    "#We adapt here our dataset samples dimension so that we can feed it to our network"
   ]
  },
  {
   "cell_type": "code",
   "execution_count": 6,
   "metadata": {},
   "outputs": [],
   "source": [
    "import matplotlib.pyplot as plt"
   ]
  },
  {
   "cell_type": "code",
   "execution_count": 7,
   "metadata": {},
   "outputs": [],
   "source": [
    "def train_and_predict():\n",
    "    print('-'*30)\n",
    "    print('Loading and preprocessing train data...')\n",
    "    print('-'*30)\n",
    "    imgs_train, imgs_mask_train = load_train_data()\n",
    "\n",
    "    imgs_train = preprocess(imgs_train)\n",
    "    imgs_mask_train = preprocess(imgs_mask_train)\n",
    "\n",
    "    imgs_train = imgs_train.astype('float32')\n",
    "    mean = np.mean(imgs_train)  # mean for data centering\n",
    "    std = np.std(imgs_train)  # std for data normalization\n",
    "\n",
    "    imgs_train -= mean\n",
    "    imgs_train /= std\n",
    "    #Normalization of the train set\n",
    "\n",
    "    imgs_mask_train = imgs_mask_train.astype('float32')\n",
    "\n",
    "    print('-'*30)\n",
    "    print('Creating and compiling model...')\n",
    "    print('-'*30)\n",
    "    model = get_unet()\n",
    "    model_checkpoint = ModelCheckpoint('weights.h5', monitor='val_loss', save_best_only=True)\n",
    "    #Saving the weights and the loss of the best predictions we obtained\n",
    "\n",
    "    print('-'*30)\n",
    "    print('Fitting model...')\n",
    "    print('-'*30)\n",
    "    history=model.fit(imgs_train, imgs_mask_train, batch_size=10, epochs=20, verbose=1, shuffle=True,\n",
    "              validation_split=0.2,\n",
    "              callbacks=[model_checkpoint])\n",
    "\n",
    "    print('-'*30)\n",
    "    print('Loading and preprocessing test data...')\n",
    "    print('-'*30)\n",
    "    imgs_test, imgs_id_test = load_test_data()\n",
    "    imgs_test = preprocess(imgs_test)\n",
    "\n",
    "    imgs_test = imgs_test.astype('float32')\n",
    "    imgs_test -= mean\n",
    "    imgs_test /= std\n",
    "    #Normalization of the test set\n",
    "\n",
    "    print('-'*30)\n",
    "    print('Loading saved weights...')\n",
    "    print('-'*30)\n",
    "    model.load_weights('weights.h5')\n",
    "\n",
    "    print('-'*30)\n",
    "    print('Predicting masks on test data...')\n",
    "    print('-'*30)\n",
    "    imgs_mask_test = model.predict(imgs_test, verbose=1)\n",
    "    np.save('imgs_mask_test.npy', imgs_mask_test)\n",
    "    print('-' * 30)\n",
    "    print('Saving predicted masks to files...')\n",
    "    print('-' * 30)\n",
    "    pred_dir = 'preds'\n",
    "    if not os.path.exists(pred_dir):\n",
    "        os.mkdir(pred_dir)\n",
    "\n",
    "    for k in range(len(imgs_mask_test)):\n",
    "        a=rescale_intensity(imgs_test[k][:,:,0],out_range=(-1,1))\n",
    "        b=(imgs_mask_test[k][:,:,0]).astype('uint8')\n",
    "        io.imsave(os.path.join(pred_dir, str(k) + '_pred.png'),mark_boundaries(a,b))\n",
    "    #Saving our predictions in the directory 'preds'\n",
    "    plt.plot(history.history['dice_coef'])\n",
    "    plt.plot(history.history['val_dice_coef'])\n",
    "    plt.title('Model dice coeff')\n",
    "    plt.ylabel('Dice coeff')\n",
    "    plt.xlabel('Epoch')\n",
    "    plt.legend(['Train', 'Test'], loc='upper left')\n",
    "    plt.show()\n",
    "    #plotting our dice coeff results in function of the number of epochs"
   ]
  },
  {
   "cell_type": "code",
   "execution_count": 8,
   "metadata": {
    "scrolled": true
   },
   "outputs": [
    {
     "name": "stdout",
     "output_type": "stream",
     "text": [
      "------------------------------\n",
      "Loading and preprocessing train data...\n",
      "------------------------------\n"
     ]
    },
    {
     "name": "stderr",
     "output_type": "stream",
     "text": [
      "C:\\Users\\Admin\\Anaconda3\\lib\\site-packages\\skimage\\transform\\_warps.py:105: UserWarning: The default mode, 'constant', will be changed to 'reflect' in skimage 0.15.\n",
      "  warn(\"The default mode, 'constant', will be changed to 'reflect' in \"\n",
      "C:\\Users\\Admin\\Anaconda3\\lib\\site-packages\\skimage\\transform\\_warps.py:110: UserWarning: Anti-aliasing will be enabled by default in skimage 0.15 to avoid aliasing artifacts when down-sampling images.\n",
      "  warn(\"Anti-aliasing will be enabled by default in skimage 0.15 to \"\n"
     ]
    },
    {
     "name": "stdout",
     "output_type": "stream",
     "text": [
      "------------------------------\n",
      "Creating and compiling model...\n",
      "------------------------------\n",
      "WARNING:tensorflow:From C:\\Users\\Admin\\Anaconda3\\lib\\site-packages\\tensorflow\\python\\framework\\op_def_library.py:263: colocate_with (from tensorflow.python.framework.ops) is deprecated and will be removed in a future version.\n",
      "Instructions for updating:\n",
      "Colocations handled automatically by placer.\n",
      "------------------------------\n",
      "Fitting model...\n",
      "------------------------------\n",
      "Train on 1155 samples, validate on 289 samples\n",
      "Epoch 1/20\n",
      "1155/1155 [==============================] - 28s 24ms/step - loss: -0.6598 - dice_coef: 0.6598 - val_loss: -0.5496 - val_dice_coef: 0.5496\n",
      "Epoch 2/20\n",
      "1155/1155 [==============================] - 13s 11ms/step - loss: -0.8656 - dice_coef: 0.8656 - val_loss: -0.7948 - val_dice_coef: 0.7948\n",
      "Epoch 3/20\n",
      "1155/1155 [==============================] - 13s 11ms/step - loss: -0.8893 - dice_coef: 0.8893 - val_loss: -0.7885 - val_dice_coef: 0.7885\n",
      "Epoch 4/20\n",
      "1155/1155 [==============================] - 13s 11ms/step - loss: -0.9105 - dice_coef: 0.9105 - val_loss: -0.8283 - val_dice_coef: 0.8283\n",
      "Epoch 5/20\n",
      "1155/1155 [==============================] - 13s 11ms/step - loss: -0.9240 - dice_coef: 0.9240 - val_loss: -0.8433 - val_dice_coef: 0.8433\n",
      "Epoch 6/20\n",
      "1155/1155 [==============================] - 13s 11ms/step - loss: -0.9339 - dice_coef: 0.9339 - val_loss: -0.8622 - val_dice_coef: 0.8622\n",
      "Epoch 7/20\n",
      "1155/1155 [==============================] - 13s 11ms/step - loss: -0.9486 - dice_coef: 0.9486 - val_loss: -0.8153 - val_dice_coef: 0.8153\n",
      "Epoch 8/20\n",
      "1155/1155 [==============================] - 13s 11ms/step - loss: -0.9564 - dice_coef: 0.9564 - val_loss: -0.8305 - val_dice_coef: 0.8305\n",
      "Epoch 9/20\n",
      "1155/1155 [==============================] - 13s 11ms/step - loss: -0.9608 - dice_coef: 0.9608 - val_loss: -0.8910 - val_dice_coef: 0.8910\n",
      "Epoch 10/20\n",
      "1155/1155 [==============================] - 13s 11ms/step - loss: -0.9664 - dice_coef: 0.9664 - val_loss: -0.8900 - val_dice_coef: 0.8900 9s - loss: -0.9669 - - ETA -\n",
      "Epoch 11/20\n",
      "1155/1155 [==============================] - 13s 11ms/step - loss: -0.9699 - dice_coef: 0.9699 - val_loss: -0.9139 - val_dice_coef: 0.9139\n",
      "Epoch 12/20\n",
      "1155/1155 [==============================] - 13s 11ms/step - loss: -0.9718 - dice_coef: 0.9718 - val_loss: -0.9070 - val_dice_coef: 0.9070\n",
      "Epoch 13/20\n",
      "1155/1155 [==============================] - 13s 11ms/step - loss: -0.9698 - dice_coef: 0.9698 - val_loss: -0.9066 - val_dice_coef: 0.9066\n",
      "Epoch 14/20\n",
      "1155/1155 [==============================] - 13s 11ms/step - loss: -0.9734 - dice_coef: 0.9734 - val_loss: -0.9192 - val_dice_coef: 0.9192\n",
      "Epoch 15/20\n",
      "1155/1155 [==============================] - 13s 11ms/step - loss: -0.9734 - dice_coef: 0.9734 - val_loss: -0.8997 - val_dice_coef: 0.8997\n",
      "Epoch 16/20\n",
      "1155/1155 [==============================] - 13s 11ms/step - loss: -0.9723 - dice_coef: 0.9723 - val_loss: -0.9127 - val_dice_coef: 0.9127\n",
      "Epoch 17/20\n",
      "1155/1155 [==============================] - 13s 11ms/step - loss: -0.9781 - dice_coef: 0.9781 - val_loss: -0.9189 - val_dice_coef: 0.9189\n",
      "Epoch 18/20\n",
      "1155/1155 [==============================] - 13s 11ms/step - loss: -0.9591 - dice_coef: 0.9591 - val_loss: -0.8179 - val_dice_coef: 0.8179\n",
      "Epoch 19/20\n",
      "1155/1155 [==============================] - 13s 11ms/step - loss: -0.9296 - dice_coef: 0.9296 - val_loss: -0.8700 - val_dice_coef: 0.8700\n",
      "Epoch 20/20\n",
      "1155/1155 [==============================] - 13s 11ms/step - loss: -0.9587 - dice_coef: 0.9587 - val_loss: -0.8235 - val_dice_coef: 0.8235\n",
      "------------------------------\n",
      "Loading and preprocessing test data...\n",
      "------------------------------\n",
      "------------------------------\n",
      "Loading saved weights...\n",
      "------------------------------\n",
      "------------------------------\n",
      "Predicting masks on test data...\n",
      "------------------------------\n",
      "935/935 [==============================] - 5s 5ms/step\n",
      "------------------------------\n",
      "Saving predicted masks to files...\n",
      "------------------------------\n"
     ]
    },
    {
     "name": "stderr",
     "output_type": "stream",
     "text": [
      "C:\\Users\\Admin\\Anaconda3\\lib\\site-packages\\skimage\\util\\dtype.py:141: UserWarning: Possible precision loss when converting from float32 to uint8\n",
      "  .format(dtypeobj_in, dtypeobj_out))\n"
     ]
    },
    {
     "data": {
      "image/png": "[encoded data removed]",
      "text/plain": [
       "<Figure size 432x288 with 1 Axes>"
      ]
     },
     "metadata": {
      "needs_background": "light"
     },
     "output_type": "display_data"
    }
   ],
   "source": [
    "if __name__ == '__main__':\n",
    "    train_and_predict()"
   ]
  },
  {
   "cell_type": "code",
   "execution_count": null,
   "metadata": {},
   "outputs": [],
   "source": []
  }
 ],
 "metadata": {
  "kernelspec": {
   "display_name": "Python 3",
   "language": "python",
   "name": "python3"
  },
  "language_info": {
   "codemirror_mode": {
    "name": "ipython",
    "version": 3
   },
   "file_extension": ".py",
   "mimetype": "text/x-python",
   "name": "python",
   "nbconvert_exporter": "python",
   "pygments_lexer": "ipython3",
   "version": "3.9.19"
  }
 },
 "nbformat": 4,
 "nbformat_minor": 2
}
